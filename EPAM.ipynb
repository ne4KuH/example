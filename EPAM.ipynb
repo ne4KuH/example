{
 "cells": [
  {
   "cell_type": "markdown",
   "metadata": {},
   "source": [
    "We want to fill missing values in the 'Age' column  in the 'Titanic'\n",
    "dataset with median values calculated depending on the prefix in 'Name' column:\n",
    "For each title from\n",
    "\n",
    " [\"Mr.\", \"Mrs.\", \"Miss.\"]\n",
    "\n",
    "\n",
    "We need to use median value calculated for every group.\n",
    "All entities where 'Name' doesn't contain the title from the list above should be marked with title = \"NaN\".\n",
    "Find the number of missed values and median values corresponding to every of these 4 groups ('Mr.', 'Mrs.''Miss.', 'NaN'). Provide the answer in the form − a list of tuples (Title of the group, number of missed values for the group, median value calculated for the\n",
    "group). The pattern for the answer is\n",
    "\n",
    "[('Mr.', 123, 23), ('Mrs.', 234, 34), ('Miss.', 321, 21), ('NaN', 19, 91)]\n",
    "\n",
    "\n",
    "The median values should be rounded to the nearest integer.\n",
    "Note: Please be carefull with dot in titles.\n",
    "'Titanic' dataset you can find in folder data/ under the name train.csv"
   ]
  },
  {
   "cell_type": "code",
   "execution_count": 1,
   "metadata": {},
   "outputs": [
    {
     "data": {
      "text/plain": [
       "[('Mr.', 119, 32), ('Mrs.', 17, 36), ('Miss.', 36, 22), ('NaN.', 5, 20)]"
      ]
     },
     "execution_count": 1,
     "metadata": {},
     "output_type": "execute_result"
    }
   ],
   "source": [
    "import pandas as pd\n",
    "\n",
    "def get_titatic_dataframe() −> pd.DataFrame:\n",
    "    df = pd.read_csv(\"D:/Visual Studio Code Projects/Data_science/For_Epam/train.csv\")\n",
    "    return df\n",
    "\n",
    "\n",
    "def get_filled():\n",
    "    df = get_titatic_dataframe()\n",
    "    # print(df.shape)\n",
    "\n",
    "    import numpy as np\n",
    "\n",
    "    # print(df.columns)\n",
    "    df = df[[\"Name\", \"Age\"]]\n",
    "    # print(df)\n",
    "\n",
    "    Mr, Mrs, Miss, NaN, NMr, NMrs, NMiss, NNaN, SMr, SMrs, SMiss, SNaN = 0, 0, 0, 0, 0, 0, 0, 0, 0, 0, 0, 0\n",
    "    for i in range(0, df.shape[0]):\n",
    "        if \" Mr.\" in df[\"Name\"].iloc[i]:\n",
    "            Mr += 1\n",
    "            if np.isnan(df[\"Age\"].iloc[i]):\n",
    "                NMr +=1\n",
    "            else:\n",
    "                SMr += df[\"Age\"].iloc[i]\n",
    "        elif \" Mrs.\" in df[\"Name\"].iloc[i]:\n",
    "            Mrs += 1\n",
    "            if np.isnan(df[\"Age\"].iloc[i]):\n",
    "                NMrs +=1\n",
    "            else:\n",
    "                SMrs += df[\"Age\"].iloc[i]\n",
    "        elif \" Miss.\" in df[\"Name\"].iloc[i]:\n",
    "            Miss += 1\n",
    "            if np.isnan(df[\"Age\"].iloc[i]):\n",
    "                NMiss +=1\n",
    "            else:\n",
    "                SMiss += df[\"Age\"].iloc[i]\n",
    "        elif \" Mr.\" not in df[\"Name\"].iloc[i] and \" Mrs.\" not in df[\"Name\"].iloc[i] and \" Miss.\" not in df[\"Name\"].iloc[i]:\n",
    "            NaN += 1\n",
    "            if np.isnan(df[\"Age\"].iloc[i]):\n",
    "                NNaN +=1\n",
    "            else:\n",
    "                SNaN += df[\"Age\"].iloc[i]\n",
    "\n",
    "    # print(\"Number of misters, mrs, miss and NaN = \", Mr, Mrs, Miss, NaN)\n",
    "    # print(\"Number of missing values of misters, mrs, miss and NaN = \", NMr, NMrs, NMiss, NNaN)\n",
    "    # print(\"Mean of values of misters, mrs, miss and NaN = \", SMr/(Mr - NMr), SMrs/(Mrs - NMrs), SMiss/(Miss - NMiss), SNaN/(NaN- NNaN))\n",
    "    '''\n",
    "    Put here a code for filling missing values in titanic dataset for column 'Age' and return these values in this view - [('Mr.', 123, 23), ('Mrs.', 234, 34), ('Miss.', 321, 21), ('NaN', 19, 91)]\n",
    "    '''\n",
    "    MMM = ('Mr.', NMr, round(SMr/(Mr - NMr)))\n",
    "    MRS = ('Mrs.', NMrs, round(SMrs/(Mrs - NMrs)))\n",
    "    MMS = ('Miss.', NMiss, round(SMiss/(Miss - NMiss)))\n",
    "    MMN = ('NaN.', NNaN, round(SNaN/(NaN- NNaN)))\n",
    "    result = [MMM, MRS, MMS, MMN]\n",
    "    # print(result)\n",
    "    return result\n",
    "get_filled()"
   ]
  },
  {
   "cell_type": "markdown",
   "metadata": {},
   "source": [
    "Morze\n",
    "Write functions code_morse for Morse coding/decoding. Notes: The spacebars shoulf be ignored for coding. The Morse letters in coded message should be separated by spacebars\n",
    "Supplementary: {'A': '.-', 'B': '-...', 'C': '-.-.', 'D': '-..', 'E': '.', 'F': '..-.', 'G': '--.', 'H': '....', 'I': '..', 'J': '.---', 'K': '-.-', 'L': '.-..', 'M': '--', 'N': '-.', 'O': '---', 'P': '.--.', 'Q': '--.-', 'R': '.-.', 'S': '...', 'T': '-', 'U': '..-', 'V': '...-', 'W': '.--', 'X': '-..-', 'Y': '-.--', 'Z': '--..',\n",
    "'1': '.----', '2': '..---', '3': '...--',\n",
    "'4': '....-', '5': '.....', '6': '-....',\n",
    "'7': '--...', '8': '---..', '9': '----.', '0': '-----', ', ': '--..--', '.': '.-.-.-', '?': '..--..', '/': '-..-.', '-': '-....-', '(': '-.--.', ')': '-.--.-'} Example of input: \"Data Science - 2022\" Example of output: \"-.. .- - .- ... -.-. .. . -. -.-. . -....- ..--- ----- ..--- ..---\","
   ]
  },
  {
   "cell_type": "code",
   "execution_count": 4,
   "metadata": {},
   "outputs": [
    {
     "name": "stdout",
     "output_type": "stream",
     "text": [
      "-.. .- - .- ... -.-. .. . -. -.-. . -....- ..--- ----- ..--- ...-- 'result of my programm'\n",
      "−·· ·− − ·− ··· −·−· ·· · −· −·−· · −····− ··−−− −−−−− ··−−− ···−− 'testing result'\n",
      "my code == to the test result : False\n"
     ]
    }
   ],
   "source": [
    "def code_morze(value):\n",
    "    '''\n",
    "    please add your solution here or call your solution implemented in different function from here  \n",
    "    then change return value from 'False' to value that will be returned by your solution\n",
    "    '''\n",
    "    dictionary = {'A': '.-', 'B': '-...', 'C': '-.-.', 'D': '-..', 'E': '.', 'F': '..-.', 'G': '--.', 'H': '....',\n",
    "                  'I': '..', 'J': '.---', 'K': '-.-', 'L': '.-..', 'M': '--', 'N': '-.', 'O': '---', 'P': '.--.',\n",
    "                  'Q': '--.-', 'R': '.-.', 'S': '...', 'T': '-', 'U': '..-', 'V': '...-', 'W': '.--', 'X': '-..-',\n",
    "                  'Y': '-.--', 'Z': '--..', '1': '.----', '2': '..---', '3': '...--', '4': '....-', '5': '.....', \n",
    "                  '6': '-....', '7': '--...', '8': '---..', '9': '----.', '0': '-----', ', ': '--..--', '.': '.-.-.-', \n",
    "                  '?': '..--..', '/': '-..-.', '-': '-....-', '(': '-.--.', ')': '-.--.-'}\n",
    "    result = \"\"\n",
    "    for i in value:\n",
    "        if i != \" \" and i != ',':\n",
    "            j = str.upper(i)\n",
    "            result = result + dictionary[j] + \" \"\n",
    "        elif i == ',':\n",
    "            result = result + dictionary[\", \"] + \" \"\n",
    "    result = result[:-1]\n",
    "    return result\n",
    "\n",
    "text = 'Data Science - 2023'\n",
    "test_text = '−·· ·− − ·− ··· −·−· ·· · −· −·−· · −····− ··−−− −−−−− ··−−− ···−−'\n",
    "print(code_morze(text), \"'result of my programm'\")\n",
    "print(test_text, \"'testing result'\")\n",
    "print(\"my code == to the test result :\", test_text == code_morze(text))"
   ]
  },
  {
   "cell_type": "code",
   "execution_count": 6,
   "metadata": {},
   "outputs": [
    {
     "name": "stdout",
     "output_type": "stream",
     "text": [
      "False\n",
      "-·· ·- - ·- ··· -·-· ·· · -· -·-· · -····- ··--- ----- ··--- ···--\n",
      "−·· ·− − ·− ··· −·−· ·· · −· −·−· · −····− ··−−− −−−−− ··−−− ···−−\n"
     ]
    }
   ],
   "source": [
    "def code_morse(text):\n",
    "    morse_dict = {\n",
    "        'A': '·-', 'B': '-···', 'C': '-·-·', 'D': '-··', 'E': '·', 'F': '··-·', 'G': '--·', 'H': '····', 'I': '··',\n",
    "        'J': '·---', 'K': '-·-', 'L': '·-··', 'M': '--', 'N': '-·', 'O': '---', 'P': '·--·', 'Q': '--·-', 'R': '·-·',\n",
    "        'S': '···', 'T': '-', 'U': '··-', 'V': '···-', 'W': '·--', 'X': '-··-', 'Y': '-·--', 'Z': '--··',\n",
    "        '1': '·----', '2': '··---', '3': '···--', '4': '····-', '5': '·····', '6': '-····', '7': '--···',\n",
    "        '8': '---··', '9': '----·', '0': '-----', ',': '--··--', '.': '·-·-·-', '?': '··--··', '/': '-··-·',\n",
    "        '-': '-····-', '(': '-·--·', ')': '-·--·-'\n",
    "    }\n",
    "    st = ''.join(text.split(' ')).upper()\n",
    "    res_st = []\n",
    "\n",
    "    for el in st:\n",
    "        if el in morse_dict:\n",
    "            res_st.append(morse_dict[el])\n",
    "\n",
    "    return ' '.join(res_st)\n",
    "\n",
    "text = 'Data Science - 2023'\n",
    "encoded_text = '-·· ·- - ·- ··· -·-· ·· · -· -·-· · -····- ··--- ----- ··--- ···--'\n",
    "print(encoded_text == code_morse(text))\n",
    "print(code_morse(text))\n",
    "print(encoded_text)"
   ]
  }
 ],
 "metadata": {
  "kernelspec": {
   "display_name": "Python 3",
   "language": "python",
   "name": "python3"
  },
  "language_info": {
   "codemirror_mode": {
    "name": "ipython",
    "version": 3
   },
   "file_extension": ".py",
   "mimetype": "text/x-python",
   "name": "python",
   "nbconvert_exporter": "python",
   "pygments_lexer": "ipython3",
   "version": "3.11.4"
  }
 },
 "nbformat": 4,
 "nbformat_minor": 2
}
